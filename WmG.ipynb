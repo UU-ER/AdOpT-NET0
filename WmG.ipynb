{
 "cells": [
  {
   "cell_type": "markdown",
   "id": "2b8940c3-29d9-4bf8-b825-51cbeef13332",
   "metadata": {},
   "source": [
    "main_WmG: Base System: Gas Power plant existing, wind Turbines Offshore, PV Onshore"
   ]
  },
  {
   "cell_type": "markdown",
   "id": "7dd50dc9-f744-43b3-a9d8-cba240b63632",
   "metadata": {},
   "source": [
    "main_WmG_2: Planned WF with PV and Gas PP"
   ]
  },
  {
   "cell_type": "code",
   "execution_count": null,
   "id": "067bfd4d-00a1-43df-a4ff-c435745aef8a",
   "metadata": {},
   "outputs": [],
   "source": []
  }
 ],
 "metadata": {
  "kernelspec": {
   "display_name": "Python 3 (ipykernel)",
   "language": "python",
   "name": "python3"
  },
  "language_info": {
   "codemirror_mode": {
    "name": "ipython",
    "version": 3
   },
   "file_extension": ".py",
   "mimetype": "text/x-python",
   "name": "python",
   "nbconvert_exporter": "python",
   "pygments_lexer": "ipython3",
   "version": "3.10.0"
  }
 },
 "nbformat": 4,
 "nbformat_minor": 5
}
